{
  "cells": [
    {
      "cell_type": "markdown",
      "metadata": {
        "colab_type": "text",
        "id": "view-in-github"
      },
      "source": [
        "<a href=\"https://colab.research.google.com/github/AgnelFernando/BCI_UR3/blob/main/EEG_Classification.ipynb\" target=\"_parent\"><img src=\"https://colab.research.google.com/assets/colab-badge.svg\" alt=\"Open In Colab\"/></a>"
      ]
    },
    {
      "cell_type": "code",
      "execution_count": 2,
      "metadata": {
        "colab": {
          "base_uri": "https://localhost:8080/"
        },
        "id": "r3IeCPJcq0Tm",
        "outputId": "6fe8536f-1294-4368-ffb4-2bbe5b725db9"
      },
      "outputs": [
        {
          "name": "stdout",
          "output_type": "stream",
          "text": [
            "Requirement already satisfied: numpy in /usr/local/lib/python3.11/site-packages (2.1.1)\n",
            "Requirement already satisfied: scipy in /usr/local/lib/python3.11/site-packages (1.15.0)\n",
            "Requirement already satisfied: pandas in /usr/local/lib/python3.11/site-packages (2.2.2)\n",
            "Requirement already satisfied: scikit-learn in /usr/local/lib/python3.11/site-packages (1.6.0)\n",
            "Requirement already satisfied: python-dateutil>=2.8.2 in /usr/local/lib/python3.11/site-packages (from pandas) (2.9.0.post0)\n",
            "Requirement already satisfied: pytz>=2020.1 in /usr/local/lib/python3.11/site-packages (from pandas) (2024.1)\n",
            "Requirement already satisfied: tzdata>=2022.7 in /usr/local/lib/python3.11/site-packages (from pandas) (2024.1)\n",
            "Requirement already satisfied: joblib>=1.2.0 in /usr/local/lib/python3.11/site-packages (from scikit-learn) (1.4.2)\n",
            "Requirement already satisfied: threadpoolctl>=3.1.0 in /usr/local/lib/python3.11/site-packages (from scikit-learn) (3.5.0)\n",
            "Requirement already satisfied: six>=1.5 in /usr/local/lib/python3.11/site-packages (from python-dateutil>=2.8.2->pandas) (1.16.0)\n",
            "\n",
            "\u001b[1m[\u001b[0m\u001b[34;49mnotice\u001b[0m\u001b[1;39;49m]\u001b[0m\u001b[39;49m A new release of pip is available: \u001b[0m\u001b[31;49m25.1.1\u001b[0m\u001b[39;49m -> \u001b[0m\u001b[32;49m25.2\u001b[0m\n",
            "\u001b[1m[\u001b[0m\u001b[34;49mnotice\u001b[0m\u001b[1;39;49m]\u001b[0m\u001b[39;49m To update, run: \u001b[0m\u001b[32;49m/usr/local/opt/python@3.11/bin/python3.11 -m pip install --upgrade pip\u001b[0m\n"
          ]
        }
      ],
      "source": [
        "!pip install numpy scipy pandas scikit-learn"
      ]
    },
    {
      "cell_type": "code",
      "execution_count": 4,
      "metadata": {
        "id": "9XYKO9Y-tTzS"
      },
      "outputs": [
        {
          "ename": "ModuleNotFoundError",
          "evalue": "No module named 'numpy'",
          "output_type": "error",
          "traceback": [
            "\u001b[0;31m---------------------------------------------------------------------------\u001b[0m",
            "\u001b[0;31mModuleNotFoundError\u001b[0m                       Traceback (most recent call last)",
            "Cell \u001b[0;32mIn[4], line 2\u001b[0m\n\u001b[1;32m      1\u001b[0m \u001b[38;5;28;01mimport\u001b[39;00m \u001b[38;5;21;01mos\u001b[39;00m\n\u001b[0;32m----> 2\u001b[0m \u001b[38;5;28;01mimport\u001b[39;00m \u001b[38;5;21;01mnumpy\u001b[39;00m \u001b[38;5;28;01mas\u001b[39;00m \u001b[38;5;21;01mnp\u001b[39;00m\n\u001b[1;32m      3\u001b[0m \u001b[38;5;28;01mimport\u001b[39;00m \u001b[38;5;21;01mpandas\u001b[39;00m \u001b[38;5;28;01mas\u001b[39;00m \u001b[38;5;21;01mpd\u001b[39;00m\n\u001b[1;32m      4\u001b[0m \u001b[38;5;28;01mfrom\u001b[39;00m \u001b[38;5;21;01mscipy\u001b[39;00m\u001b[38;5;21;01m.\u001b[39;00m\u001b[38;5;21;01msignal\u001b[39;00m \u001b[38;5;28;01mimport\u001b[39;00m butter, filtfilt\n",
            "\u001b[0;31mModuleNotFoundError\u001b[0m: No module named 'numpy'"
          ]
        }
      ],
      "source": [
        "import os\n",
        "import numpy as np\n",
        "import pandas as pd\n",
        "from scipy.signal import butter, filtfilt\n",
        "\n",
        "import torch\n",
        "import torch.nn as nn\n",
        "from torch.utils.data import Dataset, DataLoader\n",
        "import torch.optim as optim\n",
        "\n",
        "from sklearn.model_selection import train_test_split\n",
        "from sklearn.metrics import accuracy_score\n",
        "from sklearn.preprocessing import StandardScaler\n",
        "\n",
        "import matplotlib.pyplot as plt"
      ]
    },
    {
      "cell_type": "markdown",
      "metadata": {
        "id": "FvgL2TLLfoGV"
      },
      "source": [
        "# Data Preparation"
      ]
    },
    {
      "cell_type": "code",
      "execution_count": null,
      "metadata": {
        "id": "UG_ano2kfsx4"
      },
      "outputs": [],
      "source": [
        "left_channels = pd.read_csv(\"./data/down/down_2025-08-07_18/06/34.csv\")"
      ]
    },
    {
      "cell_type": "code",
      "execution_count": null,
      "metadata": {
        "colab": {
          "base_uri": "https://localhost:8080/",
          "height": 472
        },
        "id": "DZqAkW-zfn2i",
        "outputId": "2bbfd9d3-94f8-4249-c8d1-d383df094f9b"
      },
      "outputs": [],
      "source": [
        "import matplotlib.pyplot as plt\n",
        "\n",
        "# Plot 5 seconds from channel 0\n",
        "channel = 12\n",
        "start, end = 0, 50 * 250  # 5 sec at 250Hz\n",
        "plt.plot(left_channels.iloc[start:end, channel])\n",
        "plt.title(f\"Channel {channel} - Raw EEG (Time Domain)\")\n",
        "plt.xlabel(\"Sample\")\n",
        "plt.ylabel(\"Voltage (µV)\")\n",
        "plt.show()"
      ]
    },
    {
      "cell_type": "code",
      "execution_count": null,
      "metadata": {
        "colab": {
          "base_uri": "https://localhost:8080/"
        },
        "id": "H4tDaVJbgoT3",
        "outputId": "a59eeacb-9afc-4b25-8b6d-5088365bd752"
      },
      "outputs": [],
      "source": [
        "print(left_channels.describe())"
      ]
    },
    {
      "cell_type": "markdown",
      "metadata": {
        "id": "B9UL1zHfg6yU"
      },
      "source": [
        "### Power Spectral Density (PSD) Analysis"
      ]
    },
    {
      "cell_type": "code",
      "execution_count": null,
      "metadata": {
        "id": "Cag4I1f3g8P4"
      },
      "outputs": [],
      "source": [
        "import pandas as pd\n",
        "import matplotlib.pyplot as plt\n",
        "from scipy.signal import welch\n",
        "\n",
        "def plot_psd(df):\n",
        "  fs = 250\n",
        "  eeg_data = df.iloc[:, :16]\n",
        "\n",
        "  plt.figure(figsize=(10, 6))\n",
        "  for ch in range(eeg_data.shape[1]):\n",
        "      f, Pxx = welch(eeg_data.iloc[:, ch], fs=fs, nperseg=512)\n",
        "      plt.semilogy(f, Pxx, label=f\"Ch {ch}\")\n",
        "\n",
        "  plt.title(\"Power Spectral Density (All 16 Channels)\")\n",
        "  plt.xlabel(\"Frequency (Hz)\")\n",
        "  plt.ylabel(\"Power Spectral Density\")\n",
        "  plt.xlim(0, 50)  # EEG relevant range\n",
        "  plt.grid(True)\n",
        "  plt.legend(ncol=4, fontsize=8)\n",
        "  plt.tight_layout()\n",
        "  plt.show()\n"
      ]
    },
    {
      "cell_type": "code",
      "execution_count": null,
      "metadata": {
        "id": "Va1uqoSViXlg"
      },
      "outputs": [],
      "source": [
        "# Left channels\n",
        "\n",
        "left_channels = pd.read_csv(\"/content/drive/MyDrive/OpenBCI/left/left_2025-07-15_13:20:42.csv\")\n",
        "plot_psd(left_channels)"
      ]
    },
    {
      "cell_type": "code",
      "execution_count": null,
      "metadata": {
        "colab": {
          "base_uri": "https://localhost:8080/",
          "height": 607
        },
        "id": "Og1Q0I6himFo",
        "outputId": "5c1c8efb-fd0e-425d-bc02-3b3464687040"
      },
      "outputs": [],
      "source": [
        "# Right channels\n",
        "\n",
        "right_channels = pd.read_csv(\"/content/drive/MyDrive/OpenBCI/right/right_2025-07-15_13:52:29.csv\")\n",
        "plot_psd(right_channels)"
      ]
    },
    {
      "cell_type": "code",
      "execution_count": null,
      "metadata": {
        "id": "urdNrX-ItcTV"
      },
      "outputs": [],
      "source": [
        "SAMPLING_RATE = 250\n",
        "WINDOW_SIZE = SAMPLING_RATE * 1\n",
        "STRIDE = SAMPLING_RATE // 2\n",
        "BANDPASS_LOW = 1\n",
        "BANDPASS_HIGH = 40"
      ]
    },
    {
      "cell_type": "code",
      "execution_count": null,
      "metadata": {
        "id": "Yq-dVMEftIlu"
      },
      "outputs": [],
      "source": [
        "def bandpass_filter(data, low, high, fs):\n",
        "    b, a = butter(N=4, Wn=[low / (fs/2), high / (fs/2)], btype='band')\n",
        "    return filtfilt(b, a, data, axis=0)\n",
        "\n",
        "def segment_windows(data, window_size, stride):\n",
        "    windows = []\n",
        "    for start in range(0, data.shape[0] - window_size + 1, stride):\n",
        "        end = start + window_size\n",
        "        windows.append(data[start:end])\n",
        "    return np.stack(windows)\n",
        "\n",
        "def preprocess_file(file_path, label):\n",
        "    df = pd.read_csv(file_path)\n",
        "    eeg_data = df.iloc[:, :16].drop(df.columns[11], axis=1).values\n",
        "\n",
        "    filtered = bandpass_filter(eeg_data, BANDPASS_LOW, BANDPASS_HIGH, SAMPLING_RATE)\n",
        "\n",
        "    scaler = StandardScaler()\n",
        "    normalized = scaler.fit_transform(filtered)\n",
        "\n",
        "    windows = segment_windows(normalized, WINDOW_SIZE, STRIDE)\n",
        "    labels = np.full((len(windows),), label)\n",
        "\n",
        "    return windows, labels\n",
        "\n",
        "task_to_label = {'left': 0, 'right': 1, 'up': 2, 'down': 3}\n",
        "\n",
        "def process_dataset(data_dir):\n",
        "    all_X, all_y = [], []\n",
        "    for task in os.listdir(data_dir):\n",
        "      for file in os.listdir(data_dir + \"/\" + task):\n",
        "        if file.endswith('.csv'):\n",
        "            file_path = os.path.join(data_dir, task, file)\n",
        "            label = task_to_label[task]\n",
        "            X, y = preprocess_file(file_path, label)\n",
        "            all_X.append(X)\n",
        "            all_y.append(y)\n",
        "\n",
        "    X = np.concatenate(all_X, axis=0)\n",
        "    y = np.concatenate(all_y, axis=0)\n",
        "    return X, y"
      ]
    },
    {
      "cell_type": "code",
      "execution_count": null,
      "metadata": {
        "colab": {
          "base_uri": "https://localhost:8080/"
        },
        "id": "weioSsEruBza",
        "outputId": "2685f3d6-ec11-4b7b-ced3-c91f9e2b2459"
      },
      "outputs": [],
      "source": [
        "data_dir = '/content/drive/MyDrive/OpenBCI'\n",
        "X, y = process_dataset(data_dir)\n",
        "\n",
        "print(f\"Shape of X: {X.shape}\")\n",
        "print(f\"Shape of y: {y.shape}\")"
      ]
    },
    {
      "cell_type": "code",
      "execution_count": null,
      "metadata": {
        "id": "WxnNbWL4ujxL"
      },
      "outputs": [],
      "source": [
        "class EEGDataset(Dataset):\n",
        "    def __init__(self, X, y):\n",
        "        self.X = torch.tensor(X, dtype=torch.float32)\n",
        "        self.y = torch.tensor(y, dtype=torch.long)\n",
        "\n",
        "    def __len__(self):\n",
        "        return len(self.X)\n",
        "\n",
        "    def __getitem__(self, idx):\n",
        "        return self.X[idx].T, self.y[idx]"
      ]
    },
    {
      "cell_type": "code",
      "execution_count": null,
      "metadata": {
        "id": "p3jt6_b3vvWV"
      },
      "outputs": [],
      "source": [
        "class SimpleEEGNet(nn.Module):\n",
        "    def __init__(self, num_classes=4):\n",
        "        super(SimpleEEGNet, self).__init__()\n",
        "        self.net = nn.Sequential(\n",
        "            nn.Conv1d(15, 32, kernel_size=5, stride=1, padding=2),\n",
        "            nn.ReLU(),\n",
        "            nn.MaxPool1d(kernel_size=2),\n",
        "\n",
        "            nn.Conv1d(32, 64, kernel_size=5, stride=1, padding=2),\n",
        "            nn.ReLU(),\n",
        "            nn.MaxPool1d(kernel_size=2),\n",
        "\n",
        "            nn.Flatten(),\n",
        "            nn.Linear(64 * 62, 128),\n",
        "            nn.ReLU(),\n",
        "            nn.Linear(128, num_classes)\n",
        "        )\n",
        "\n",
        "    def forward(self, x):\n",
        "        return self.net(x)"
      ]
    },
    {
      "cell_type": "code",
      "execution_count": null,
      "metadata": {
        "id": "_2OrJSWyxgRb"
      },
      "outputs": [],
      "source": [
        "X_train, X_test, y_train, y_test = train_test_split(X, y, test_size=0.25, random_state=42)\n",
        "\n",
        "train_dataset = EEGDataset(X_train, y_train)\n",
        "test_dataset = EEGDataset(X_test, y_test)\n",
        "train_loader = DataLoader(train_dataset, batch_size=32, shuffle=True)\n",
        "test_loader = DataLoader(test_dataset, batch_size=32)"
      ]
    },
    {
      "cell_type": "code",
      "execution_count": null,
      "metadata": {
        "id": "0XkOTo49EGuD"
      },
      "outputs": [],
      "source": [
        "device = torch.device('cuda' if torch.cuda.is_available() else 'cpu')"
      ]
    },
    {
      "cell_type": "code",
      "execution_count": null,
      "metadata": {
        "colab": {
          "base_uri": "https://localhost:8080/"
        },
        "id": "NJhWUwufv_XM",
        "outputId": "fcaae6fa-a86c-4b47-a53c-677eac438fdd"
      },
      "outputs": [],
      "source": [
        "model = SimpleEEGNet(num_classes=4).to(device)\n",
        "criterion = nn.CrossEntropyLoss()\n",
        "optimizer = optim.Adam(model.parameters(), lr=0.001)\n",
        "\n",
        "for epoch in range(10):\n",
        "    model.train()\n",
        "    total_loss = 0\n",
        "    for batch_X, batch_y in train_loader:\n",
        "        batch_X, batch_y = batch_X.to(device), batch_y.to(device)\n",
        "\n",
        "        optimizer.zero_grad()\n",
        "        outputs = model(batch_X)\n",
        "        loss = criterion(outputs, batch_y)\n",
        "        loss.backward()\n",
        "        optimizer.step()\n",
        "        total_loss += loss.item()\n",
        "\n",
        "    print(f\"Epoch {epoch+1} - Loss: {total_loss:.4f}\")"
      ]
    },
    {
      "cell_type": "code",
      "execution_count": null,
      "metadata": {
        "colab": {
          "base_uri": "https://localhost:8080/"
        },
        "id": "u8bxOrSTwFcc",
        "outputId": "edc61c1e-dd26-4944-ddeb-710125bb20af"
      },
      "outputs": [],
      "source": [
        "model.eval()\n",
        "all_preds = []\n",
        "all_labels = []\n",
        "\n",
        "with torch.no_grad():\n",
        "    for batch_X, batch_y in test_loader:\n",
        "        batch_X = batch_X.to(device)\n",
        "        outputs = model(batch_X)\n",
        "        preds = torch.argmax(outputs, dim=1).cpu().numpy()\n",
        "        all_preds.extend(preds)\n",
        "        all_labels.extend(batch_y.numpy())\n",
        "\n",
        "acc = accuracy_score(all_labels, all_preds)\n",
        "print(f\"Test Accuracy: {acc:.2%}\")"
      ]
    },
    {
      "cell_type": "markdown",
      "metadata": {
        "id": "qCWoJgUACNOB"
      },
      "source": [
        "# LSTM"
      ]
    },
    {
      "cell_type": "code",
      "execution_count": null,
      "metadata": {
        "id": "8BmNd6xVxcyH"
      },
      "outputs": [],
      "source": [
        "class EEG_LSTM(nn.Module):\n",
        "    def __init__(self, input_size=16, hidden_size=64, num_layers=2, num_classes=4):\n",
        "        super(EEG_LSTM, self).__init__()\n",
        "        self.lstm = nn.LSTM(\n",
        "            input_size=input_size,\n",
        "            hidden_size=hidden_size,\n",
        "            num_layers=num_layers,\n",
        "            batch_first=True,\n",
        "            bidirectional=False\n",
        "        )\n",
        "        self.fc = nn.Sequential(\n",
        "            nn.Linear(hidden_size, 64),\n",
        "            nn.ReLU(),\n",
        "            nn.Linear(64, num_classes)\n",
        "        )\n",
        "\n",
        "    def forward(self, x):\n",
        "        out, _ = self.lstm(x)\n",
        "        out = out[:, -1, :]\n",
        "        return self.fc(out)\n"
      ]
    },
    {
      "cell_type": "code",
      "execution_count": null,
      "metadata": {
        "id": "f1KOEMA7CIij"
      },
      "outputs": [],
      "source": [
        "class EEGDataset(Dataset):\n",
        "    def __init__(self, X, y):\n",
        "        self.X = torch.tensor(X, dtype=torch.float32)\n",
        "        self.y = torch.tensor(y, dtype=torch.long)\n",
        "\n",
        "    def __len__(self):\n",
        "        return len(self.X)\n",
        "\n",
        "    def __getitem__(self, idx):\n",
        "        return self.X[idx], self.y[idx]"
      ]
    },
    {
      "cell_type": "code",
      "execution_count": null,
      "metadata": {
        "id": "9N2TxT2xCL7A"
      },
      "outputs": [],
      "source": [
        "X_train, X_test, y_train, y_test = train_test_split(X, y, test_size=0.25, random_state=42)\n",
        "\n",
        "train_dataset = EEGDataset(X_train, y_train)\n",
        "test_dataset = EEGDataset(X_test, y_test)\n",
        "train_loader = DataLoader(train_dataset, batch_size=32, shuffle=True)\n",
        "test_loader = DataLoader(test_dataset, batch_size=32)"
      ]
    },
    {
      "cell_type": "code",
      "execution_count": null,
      "metadata": {
        "id": "HS7gD7m6x4jP"
      },
      "outputs": [],
      "source": [
        "model = EEG_LSTM(input_size=15, hidden_size=128).to(device)\n",
        "criterion = nn.CrossEntropyLoss()\n",
        "optimizer = torch.optim.Adam(model.parameters(), lr=0.0005)"
      ]
    },
    {
      "cell_type": "code",
      "execution_count": null,
      "metadata": {
        "colab": {
          "base_uri": "https://localhost:8080/"
        },
        "id": "vaPHq_uByBq8",
        "outputId": "12d284d5-4d08-48fb-882d-00697c68e528"
      },
      "outputs": [],
      "source": [
        "train_losses = []\n",
        "\n",
        "for epoch in range(200):\n",
        "    model.train()\n",
        "    running_train_loss = 0\n",
        "    for batch_X, batch_y in train_loader:\n",
        "        batch_X, batch_y = batch_X.to(device), batch_y.to(device)\n",
        "\n",
        "        optimizer.zero_grad()\n",
        "        outputs = model(batch_X)\n",
        "        loss = criterion(outputs, batch_y)\n",
        "        loss.backward()\n",
        "        optimizer.step()\n",
        "        running_train_loss += loss.item()\n",
        "\n",
        "    train_losses.append(running_train_loss)\n",
        "    if epoch % 5 == 0:\n",
        "      print(f\"Epoch {epoch+1:02d} | Train Loss: {running_train_loss:.4f}\")"
      ]
    },
    {
      "cell_type": "code",
      "execution_count": null,
      "metadata": {
        "colab": {
          "base_uri": "https://localhost:8080/"
        },
        "id": "nRFikp7iyCDN",
        "outputId": "184c8bd5-1ebd-41a6-eab3-96313b72d8a0"
      },
      "outputs": [],
      "source": [
        "model.eval()\n",
        "all_preds = []\n",
        "all_labels = []\n",
        "\n",
        "with torch.no_grad():\n",
        "    for batch_X, batch_y in test_loader:\n",
        "        batch_X = batch_X.to(device)\n",
        "        outputs = model(batch_X)\n",
        "        preds = torch.argmax(outputs, dim=1).cpu().numpy()\n",
        "        all_preds.extend(preds)\n",
        "        all_labels.extend(batch_y.numpy())\n",
        "\n",
        "acc = accuracy_score(all_labels, all_preds)\n",
        "print(f\"Test Accuracy: {acc:.2%}\")"
      ]
    },
    {
      "cell_type": "markdown",
      "metadata": {
        "id": "ZRp-BadGMjBq"
      },
      "source": [
        "# GRU"
      ]
    },
    {
      "cell_type": "code",
      "execution_count": null,
      "metadata": {
        "id": "Lva2j_GrMkXz"
      },
      "outputs": [],
      "source": [
        "class EEG_GRU(nn.Module):\n",
        "    def __init__(self, input_size=16, hidden_size=64, num_layers=2, num_classes=4, dropout=0.3):\n",
        "        super(EEG_GRU, self).__init__()\n",
        "        self.gru = nn.GRU(\n",
        "            input_size=input_size,\n",
        "            hidden_size=hidden_size,\n",
        "            num_layers=num_layers,\n",
        "            dropout=dropout if num_layers > 1 else 0,\n",
        "            batch_first=True,\n",
        "            bidirectional=False\n",
        "        )\n",
        "        self.fc = nn.Sequential(\n",
        "            nn.Linear(hidden_size, 64),\n",
        "            nn.ReLU(),\n",
        "            nn.Linear(64, num_classes)\n",
        "        )\n",
        "\n",
        "    def forward(self, x):\n",
        "        out, _ = self.gru(x)\n",
        "        out = out[:, -1, :]\n",
        "        return self.fc(out)\n"
      ]
    },
    {
      "cell_type": "code",
      "execution_count": null,
      "metadata": {
        "id": "c5CswpSKQpjL"
      },
      "outputs": [],
      "source": [
        "model = EEG_GRU(input_size=15, hidden_size=64, num_layers=2, num_classes=4).to(device)\n",
        "criterion = nn.CrossEntropyLoss()\n",
        "optimizer = torch.optim.Adam(model.parameters(), lr=0.001)"
      ]
    },
    {
      "cell_type": "code",
      "execution_count": null,
      "metadata": {
        "colab": {
          "base_uri": "https://localhost:8080/"
        },
        "id": "wpPg97PwQtBA",
        "outputId": "0b208e1f-d0a0-47ab-ecb1-5a9496096d54"
      },
      "outputs": [],
      "source": [
        "train_losses = []\n",
        "\n",
        "for epoch in range(100):\n",
        "    model.train()\n",
        "    running_train_loss = 0\n",
        "    for batch_X, batch_y in train_loader:\n",
        "        batch_X, batch_y = batch_X.to(device), batch_y.to(device)\n",
        "\n",
        "        optimizer.zero_grad()\n",
        "        outputs = model(batch_X)\n",
        "        loss = criterion(outputs, batch_y)\n",
        "        loss.backward()\n",
        "        optimizer.step()\n",
        "        running_train_loss += loss.item()\n",
        "\n",
        "    train_losses.append(running_train_loss)\n",
        "    if epoch % 5 == 0:\n",
        "      print(f\"Epoch {epoch+1:02d} | Train Loss: {running_train_loss:.4f}\")"
      ]
    },
    {
      "cell_type": "code",
      "execution_count": null,
      "metadata": {
        "colab": {
          "base_uri": "https://localhost:8080/"
        },
        "id": "43j2MvYlQwKC",
        "outputId": "9460c357-4462-475c-c5e6-75bfe36bfeea"
      },
      "outputs": [],
      "source": [
        "model.eval()\n",
        "all_preds = []\n",
        "all_labels = []\n",
        "\n",
        "with torch.no_grad():\n",
        "    for batch_X, batch_y in test_loader:\n",
        "        batch_X = batch_X.to(device)\n",
        "        outputs = model(batch_X)\n",
        "        preds = torch.argmax(outputs, dim=1).cpu().numpy()\n",
        "        all_preds.extend(preds)\n",
        "        all_labels.extend(batch_y.numpy())\n",
        "\n",
        "acc = accuracy_score(all_labels, all_preds)\n",
        "print(f\"Test Accuracy: {acc:.2%}\")"
      ]
    },
    {
      "cell_type": "code",
      "execution_count": null,
      "metadata": {
        "id": "LVCaPFTsQ1qc"
      },
      "outputs": [],
      "source": [
        "torch.save({\n",
        "    'model_state_dict': model.state_dict(),\n",
        "    'input_size': 15,\n",
        "    'hidden_size': 64,\n",
        "    'num_layers': 2,\n",
        "    'num_classes': 4\n",
        "}, \"eeg_gru_checkpoint.pth\")"
      ]
    },
    {
      "cell_type": "markdown",
      "metadata": {
        "id": "vWLr5NJZ_bhA"
      },
      "source": [
        "## Inference"
      ]
    },
    {
      "cell_type": "code",
      "execution_count": null,
      "metadata": {
        "id": "ffzvMzOk_VRj"
      },
      "outputs": [],
      "source": [
        "import numpy as np\n",
        "import torch\n",
        "import torch.nn as nn\n",
        "from scipy.signal import butter, filtfilt\n",
        "from sklearn.preprocessing import StandardScaler\n",
        "\n",
        "SAMPLING_RATE = 250\n",
        "BANDPASS_LOW = 1\n",
        "BANDPASS_HIGH = 40\n",
        "\n",
        "def bandpass_filter(data, low, high, fs):\n",
        "    b, a = butter(N=4, Wn=[low / (fs / 2), high / (fs / 2)], btype='band')\n",
        "    return filtfilt(b, a, data, axis=0)\n",
        "\n",
        "def preprocess_live_eeg(raw_window):\n",
        "    \"\"\"\n",
        "    raw_window: np.array of shape (250, 16)\n",
        "    returns: processed_window of shape (250, 15)\n",
        "    \"\"\"\n",
        "    assert raw_window.shape == (250, 16), \"Expected raw EEG shape (250, 16)\"\n",
        "\n",
        "    raw_window = np.delete(raw_window, 11, axis=1)  # → (250, 15)\n",
        "\n",
        "    filtered = bandpass_filter(raw_window, BANDPASS_LOW, BANDPASS_HIGH, SAMPLING_RATE)\n",
        "\n",
        "    scaler = StandardScaler()\n",
        "    normalized = scaler.fit_transform(filtered)\n",
        "\n",
        "    return normalized\n"
      ]
    },
    {
      "cell_type": "code",
      "execution_count": null,
      "metadata": {
        "id": "NOimoJSUAKWI"
      },
      "outputs": [],
      "source": [
        "class EEG_GRU(nn.Module):\n",
        "    def __init__(self, input_size=15, hidden_size=64, num_layers=2, num_classes=4, dropout=0.3):\n",
        "        super(EEG_GRU, self).__init__()\n",
        "        self.gru = nn.GRU(\n",
        "            input_size=input_size,\n",
        "            hidden_size=hidden_size,\n",
        "            num_layers=num_layers,\n",
        "            dropout=dropout if num_layers > 1 else 0,\n",
        "            batch_first=True\n",
        "        )\n",
        "        self.fc = nn.Sequential(\n",
        "            nn.Linear(hidden_size, 64),\n",
        "            nn.ReLU(),\n",
        "            nn.Linear(64, num_classes)\n",
        "        )\n",
        "\n",
        "    def forward(self, x):\n",
        "        out, _ = self.gru(x)\n",
        "        out = out[:, -1, :]\n",
        "        return self.fc(out)"
      ]
    },
    {
      "cell_type": "code",
      "execution_count": null,
      "metadata": {
        "id": "o3p9L9qPAMZk"
      },
      "outputs": [],
      "source": [
        "def inference(raw_eeg_window: np.ndarray, model_path=\"eeg_gru_model.pth\"):\n",
        "    processed = preprocess_live_eeg(raw_eeg_window)  # (250, 15)\n",
        "\n",
        "    model = EEG_GRU()\n",
        "    model.load_state_dict(torch.load(model_path, map_location='cpu'))\n",
        "    model.eval()\n",
        "\n",
        "    with torch.no_grad():\n",
        "        x = torch.tensor(processed, dtype=torch.float32).unsqueeze(0)  # (1, 250, 15)\n",
        "        output = model(x)\n",
        "        pred = torch.argmax(output, dim=1).item()\n",
        "\n",
        "    return pred\n"
      ]
    }
  ],
  "metadata": {
    "accelerator": "GPU",
    "colab": {
      "authorship_tag": "ABX9TyMBugJbe0ailU3WgpLz8EwD",
      "gpuType": "T4",
      "include_colab_link": true,
      "mount_file_id": "1epehh287aD6T9igiG5-Thc_0FNbJnbd9",
      "provenance": []
    },
    "kernelspec": {
      "display_name": "Python 3",
      "name": "python3"
    },
    "language_info": {
      "codemirror_mode": {
        "name": "ipython",
        "version": 3
      },
      "file_extension": ".py",
      "mimetype": "text/x-python",
      "name": "python",
      "nbconvert_exporter": "python",
      "pygments_lexer": "ipython3",
      "version": "3.11.1"
    }
  },
  "nbformat": 4,
  "nbformat_minor": 0
}
